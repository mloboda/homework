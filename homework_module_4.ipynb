{
 "cells": [
  {
   "cell_type": "markdown",
   "metadata": {},
   "source": [
    "### 1"
   ]
  },
  {
   "cell_type": "code",
   "execution_count": 3,
   "metadata": {},
   "outputs": [],
   "source": [
    "arr = list(range(100))\n",
    "\n",
    "only_even_arr = [number for number in arr if number % 2 == 0]\n",
    "# Use `list comprehension` for filling `only_even_arr` list.\n",
    "# Add only even number from `arr`"
   ]
  },
  {
   "cell_type": "code",
   "execution_count": 4,
   "metadata": {},
   "outputs": [
    {
     "name": "stdout",
     "output_type": "stream",
     "text": [
      "[0, 2, 4, 6, 8, 10, 12, 14, 16, 18, 20, 22, 24, 26, 28, 30, 32, 34, 36, 38, 40, 42, 44, 46, 48, 50, 52, 54, 56, 58, 60, 62, 64, 66, 68, 70, 72, 74, 76, 78, 80, 82, 84, 86, 88, 90, 92, 94, 96, 98]\n"
     ]
    }
   ],
   "source": [
    "print(only_even_arr)"
   ]
  },
  {
   "cell_type": "markdown",
   "metadata": {},
   "source": [
    "### 2"
   ]
  },
  {
   "cell_type": "code",
   "execution_count": 5,
   "metadata": {},
   "outputs": [
    {
     "name": "stdout",
     "output_type": "stream",
     "text": [
      "   0   0   0   0   0   0   0   0   0   0   0\n",
      "   0   1   2   3   4   5   6   7   8   9  10\n",
      "   0   2   4   6   8  10  12  14  16  18  20\n",
      "   0   3   6   9  12  15  18  21  24  27  30\n",
      "   0   4   8  12  16  20  24  28  32  36  40\n",
      "   0   5  10  15  20  25  30  35  40  45  50\n",
      "   0   6  12  18  24  30  36  42  48  54  60\n",
      "   0   7  14  21  28  35  42  49  56  63  70\n",
      "   0   8  16  24  32  40  48  56  64  72  80\n",
      "   0   9  18  27  36  45  54  63  72  81  90\n",
      "   0  10  20  30  40  50  60  70  80  90 100\n"
     ]
    }
   ],
   "source": [
    "# Display a multiplication table that shows\n",
    "# the products of all combinations of integers\n",
    "# from 1 times 1 up to and including 10 times 10\n",
    "\n",
    "ranged_list = [number for number in range(11)]  # produce numbers from 0 to 10\n",
    "\n",
    "for row in ranged_list:\n",
    "    for col in ranged_list:\n",
    "        # some print here\n",
    "        product = col * row\n",
    "        print(f'{product:4}', end='')\n",
    "        pass\n",
    "    # and print here\n",
    "    print()"
   ]
  },
  {
   "cell_type": "markdown",
   "metadata": {},
   "source": [
    "### 3"
   ]
  },
  {
   "cell_type": "code",
   "execution_count": 6,
   "metadata": {},
   "outputs": [
    {
     "name": "stdout",
     "output_type": "stream",
     "text": [
      "84 <= Update\n",
      "56\n",
      "43\n",
      "18\n",
      "74\n",
      "98 <= Update\n",
      "45\n",
      "57\n",
      "25\n",
      "90\n",
      "30\n",
      "33\n",
      "36\n",
      "94\n",
      "9\n",
      "67\n",
      "26\n",
      "12\n",
      "54\n",
      "71\n",
      "72\n",
      "80\n",
      "83\n",
      "6\n",
      "10\n",
      "32\n",
      "13\n",
      "7\n",
      "34\n",
      "37\n",
      "22\n",
      "59\n",
      "41\n",
      "58\n",
      "2\n",
      "86\n",
      "42\n",
      "38\n",
      "29\n",
      "8\n",
      "15\n",
      "39\n",
      "44\n",
      "87\n",
      "48\n",
      "61\n",
      "60\n",
      "75\n",
      "69\n",
      "35\n",
      "68\n",
      "19\n",
      "63\n",
      "76\n",
      "77\n",
      "70\n",
      "3\n",
      "14\n",
      "5\n",
      "21\n",
      "51\n",
      "50\n",
      "82\n",
      "24\n",
      "97\n",
      "16\n",
      "23\n",
      "66\n",
      "4\n",
      "95\n",
      "89\n",
      "91\n",
      "79\n",
      "1\n",
      "92\n",
      "52\n",
      "78\n",
      "11\n",
      "88\n",
      "99 <= Update\n",
      "73\n",
      "93\n",
      "46\n",
      "81\n",
      "47\n",
      "40\n",
      "49\n",
      "64\n",
      "53\n",
      "100 <= Update\n",
      "55\n",
      "27\n",
      "17\n",
      "62\n",
      "31\n",
      "65\n",
      "20\n",
      "85\n",
      "96\n",
      "28\n",
      "max: 100; update numbers 4\n"
     ]
    }
   ],
   "source": [
    "# Generate 100 random integers between 1 and 100.\n",
    "# Check each integer as it is generated to see if\n",
    "# it is larger than the maximum number encountered so far.\n",
    "# If larger => print \" <= Update\" next to the generated integer.\n",
    "# Print the max value and number of updates at the end of output\n",
    "\n",
    "import random  # use random module to generate pseudorandom value\n",
    "\n",
    "# try with less value first, then change to 100\n",
    "volume = 100\n",
    "\n",
    "arr = random.sample(range(1, 101), volume)  # use random.sample to generate 100 numbers from 1 to 100 in one row\n",
    "curr_max = 0  # change this number inside `if`\n",
    "update_numbers = 0  # add 1 each time when get update\n",
    "\n",
    "for i in arr:\n",
    "    if i > curr_max:  # put here an appropriate condition\n",
    "        # print and update vars\n",
    "        print(f'{i} <= Update')\n",
    "        curr_max = i\n",
    "        update_numbers += 1\n",
    "    else:\n",
    "        # just print current number\n",
    "        print(i)\n",
    "print(f\"max: {curr_max}; update numbers {update_numbers}\")"
   ]
  },
  {
   "cell_type": "markdown",
   "metadata": {},
   "source": [
    "### 4"
   ]
  },
  {
   "cell_type": "code",
   "execution_count": 7,
   "metadata": {},
   "outputs": [
    {
     "name": "stdout",
     "output_type": "stream",
     "text": [
      "11000000111001\n",
      "11000000111001\n"
     ]
    }
   ],
   "source": [
    "# Convert a decimal (base10) number to binary(base2).\n",
    "# Use the algorithm below\n",
    "\n",
    "# Let q represent the number to convert repeat\n",
    "# Set r equal to the remainder when q is divided by 2\n",
    "# Convert r to a string and add it to the beginning of result\n",
    "# Divide q by 2, discarding any remainder, and store the result back into q\n",
    "# until q is 0\n",
    "\n",
    "base10_var = 12345\n",
    "base2_str = \"{0:b}\".format(base10_var)  # use to check the result\n",
    "\n",
    "base2_var = ''  # use this var for keeping the result\n",
    "\n",
    "# Implement the algorithm here\n",
    "while base10_var != 0:\n",
    "    r = base10_var % 2\n",
    "    base2_var = str(r) + base2_var\n",
    "    base10_var //= 2\n",
    "\n",
    "print(base2_str)\n",
    "print(base2_var)\n",
    "assert str(base2_var) == base2_str"
   ]
  },
  {
   "cell_type": "markdown",
   "metadata": {},
   "source": [
    "### 5"
   ]
  },
  {
   "cell_type": "code",
   "execution_count": 8,
   "metadata": {},
   "outputs": [
    {
     "name": "stdout",
     "output_type": "stream",
     "text": [
      "{0: 0, 2: 4, 4: 8, 6: 12, 8: 16, 10: 20, 12: 24, 14: 28, 16: 32, 18: 36, 20: 40, 22: 44, 24: 48, 26: 52, 28: 56, 30: 60, 32: 64, 34: 68, 36: 72, 38: 76, 40: 80, 42: 84, 44: 88, 46: 92, 48: 96}\n"
     ]
    }
   ],
   "source": [
    "d = {i: i * 2 for i in range(50) if i % 2 == 0}\n",
    "print(d)"
   ]
  },
  {
   "cell_type": "code",
   "execution_count": 9,
   "metadata": {},
   "outputs": [
    {
     "name": "stdout",
     "output_type": "stream",
     "text": [
      "the value for key '0' is 0\n",
      "no value for key '1' in this case\n"
     ]
    }
   ],
   "source": [
    "# Use try-except block to intercept the error and print \"no value for key {n}\" in this case\n",
    "\n",
    "try:\n",
    "    for n in range(50):\n",
    "        print(f\"the value for key '{n}' is {d[n]}\")\n",
    "except KeyError:\n",
    "    print(f\"no value for key '{n}' in this case\")"
   ]
  },
  {
   "cell_type": "code",
   "execution_count": null,
   "metadata": {},
   "outputs": [],
   "source": []
  }
 ],
 "metadata": {
  "kernelspec": {
   "display_name": "Python 3 (ipykernel)",
   "language": "python",
   "name": "python3"
  },
  "language_info": {
   "codemirror_mode": {
    "name": "ipython",
    "version": 3
   },
   "file_extension": ".py",
   "mimetype": "text/x-python",
   "name": "python",
   "nbconvert_exporter": "python",
   "pygments_lexer": "ipython3",
   "version": "3.11.2"
  }
 },
 "nbformat": 4,
 "nbformat_minor": 2
}
