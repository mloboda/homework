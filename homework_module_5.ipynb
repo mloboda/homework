{
 "cells": [
  {
   "cell_type": "markdown",
   "metadata": {},
   "source": [
    "# Functions"
   ]
  },
  {
   "cell_type": "markdown",
   "metadata": {},
   "source": [
    "### 1"
   ]
  },
  {
   "cell_type": "code",
   "execution_count": 79,
   "metadata": {},
   "outputs": [],
   "source": [
    "# Implement a function which makes pairwise string comparison,\n",
    "# ignoring case.\n",
    "# Raise ValueError in case of less than 2 arguments.\n",
    "\n",
    "# Hints:\n",
    "# use enumerate or zip() with arg and arg[1:] \n",
    "# zip produces pairs:\n",
    "# >>> list(zip([1,2,3], [3,2,1]))\n",
    "# [(1, 3), (2, 2), (3, 1)]\n",
    "\n",
    "# a = [1,2,3]\n",
    "# a[1:] => [2,3]\n",
    "\n",
    "def str_compare(*args):\n",
    "    if len(args) < 2:\n",
    "        raise ValueError('provide at least 2 arguments')\n",
    "    string_pairs = list(zip(args, args[1:]))\n",
    "    for pair in string_pairs:\n",
    "        if pair[0].lower() == pair[1].lower():\n",
    "            continue\n",
    "        else:\n",
    "            return False\n",
    "    return True\n",
    "\n",
    "assert str_compare(\"ABcd\", \"abcd\", \"AbCD\", \"ABCD\")\n",
    "assert str_compare(\"str\", \"sTr\", \"STR\")\n",
    "assert str_compare(\"zx..QW\", \"zx..QW\", \"zX..qw\")\n",
    "assert not str_compare(\"12345\", \"1234\")\n",
    "assert not str_compare(\"abc\", \"abcc\")\n",
    "assert not str_compare(\"12345\", \"1234\")\n",
    "\n",
    "try:\n",
    "    str_compare(\"1\")\n",
    "except ValueError as er:\n",
    "    assert str(er) == \"provide at least 2 arguments\""
   ]
  },
  {
   "cell_type": "markdown",
   "metadata": {},
   "source": [
    "### 2"
   ]
  },
  {
   "cell_type": "code",
   "execution_count": 80,
   "metadata": {},
   "outputs": [],
   "source": [
    "# Implement a function which returns the following list:\n",
    "# [0, [1, [2, [3, [4, [5, ...., [N, []]]]]]]]\n",
    "# where N - the specified argument.\n",
    "# Returns \"not int\" if type of N is not int\n",
    "#         \"should be 0 or bigger\" if N less then 0\n",
    "# Hints:\n",
    "# - you can use inner function:\n",
    "#       def fun1():\n",
    "#           def fun2():\n",
    "#               ...\n",
    "#               return 1 + fun2() \n",
    "# - isinstance(some_var, some_type)\n",
    "\n",
    "def deep_list(N):\n",
    "    if not isinstance(N, int):\n",
    "        return 'not int'\n",
    "    elif N < 0:\n",
    "        return 'should be 0 or bigger'\n",
    "    elif N == 0:\n",
    "        return [0]\n",
    "\n",
    "    def get_list(current):\n",
    "        if current == N:\n",
    "            return [N]\n",
    "        else:\n",
    "            return [current, get_list(current + 1)]\n",
    "\n",
    "    return [0, get_list(1)]\n",
    "\n",
    "\n",
    "assert [0, [1, [2, [3, [4, [5, [6, [7, [8, [9, [10]]]]]]]]]]] == deep_list(10)\n",
    "assert [0, [1, [2, [3, [4, [5, [6, [7]]]]]]]] == deep_list(7)\n",
    "assert [0] == deep_list(0)\n",
    "assert \"should be 0 or bigger\" == deep_list(-1)\n",
    "assert \"not int\" == deep_list(\"not int, actually\")"
   ]
  },
  {
   "cell_type": "markdown",
   "metadata": {},
   "source": [
    "### 3"
   ]
  },
  {
   "cell_type": "code",
   "execution_count": 81,
   "metadata": {},
   "outputs": [
    {
     "name": "stdout",
     "output_type": "stream",
     "text": [
      "98290\n"
     ]
    }
   ],
   "source": [
    "# Implement a generator which produces random numbers (randint)\n",
    "# from 0 to MAX_PEAK, count = _SIZE\n",
    "# (increase it, if your computer is too fast).\n",
    "# Compare memory consumption with list implementation (all values)\n",
    "\n",
    "import random\n",
    "_SIZE = int(1e7)\n",
    "MAX_PEAK = 101\n",
    "\n",
    "def get_day_peaks():\n",
    "    count = 0\n",
    "    while count < _SIZE:\n",
    "        random_number = random.randint(0, MAX_PEAK)\n",
    "        yield random_number\n",
    "        count += 1\n",
    "\n",
    "counter = 0\n",
    "alerts = 0\n",
    "for i in get_day_peaks():\n",
    "    counter += 1\n",
    "    if i > 100:\n",
    "        alerts += 1\n",
    "\n",
    "print(alerts)\n",
    "assert _SIZE == counter"
   ]
  },
  {
   "cell_type": "markdown",
   "metadata": {},
   "source": [
    "### 4"
   ]
  },
  {
   "cell_type": "code",
   "execution_count": 82,
   "metadata": {},
   "outputs": [
    {
     "name": "stdout",
     "output_type": "stream",
     "text": [
      " call fib with (5,)\n",
      "- call fib with (4,)\n",
      "-- call fib with (3,)\n",
      "--- call fib with (2,)\n",
      "---- call fib with (1,)\n",
      "----- call fib with (0,)\n",
      "------ call fib with (1,)\n",
      "------- call fib with (2,)\n",
      "-------- call fib with (1,)\n",
      "--------- call fib with (0,)\n",
      "---------- call fib with (3,)\n",
      "----------- call fib with (2,)\n",
      "------------ call fib with (1,)\n",
      "------------- call fib with (0,)\n",
      "-------------- call fib with (1,)\n"
     ]
    },
    {
     "data": {
      "text/plain": [
       "5"
      ]
     },
     "execution_count": 82,
     "metadata": {},
     "output_type": "execute_result"
    }
   ],
   "source": [
    "# Implement decorator call_log which prints\n",
    "# function.__name__, and all arguments\n",
    "# before function call.\n",
    "# Each inner function call should be moved by one \"-\" symbol\n",
    "\n",
    "# Example:\n",
    "# fib(5)\n",
    "#  call fib with (5,)\n",
    "# - call fib with (4,)\n",
    "# -- call fib with (3,)\n",
    "# --- call fib with (2,)\n",
    "# ---- call fib with (1,)\n",
    "# ----- call fib with (0,)\n",
    "# ------ call fib with (1,)\n",
    "# ------- call fib with (2,)\n",
    "# -------- call fib with (1,)\n",
    "# --------- call fib with (0,)\n",
    "# ---------- call fib with (3,)\n",
    "# ----------- call fib with (2,)\n",
    "# ------------ call fib with (1,)\n",
    "# ------------- call fib with (0,)\n",
    "# -------------- call fib with (1,)\n",
    "\n",
    "def call_log(func):\n",
    "    count = 0\n",
    "\n",
    "    def wrapper(*args):\n",
    "        nonlocal count\n",
    "        print('-' * count + f' call {func.__name__} with {args}')\n",
    "        count += 1\n",
    "        result = func(*args)\n",
    "        return result\n",
    "\n",
    "    return wrapper\n",
    "\n",
    "@call_log\n",
    "def fib(n):\n",
    "    assert n >= 0\n",
    "    if n < 2:\n",
    "        return n\n",
    "    else:\n",
    "        return fib(n-1) + fib(n-2)\n",
    "    \n",
    "fib(5)"
   ]
  },
  {
   "cell_type": "markdown",
   "metadata": {},
   "source": [
    "### 5"
   ]
  },
  {
   "cell_type": "code",
   "execution_count": 83,
   "metadata": {},
   "outputs": [],
   "source": [
    "# Implement functions that\n",
    "# - return True if the input string contains a float number\n",
    "# - return False in the other case\n",
    "\n",
    "def is_float(str_int):\n",
    "    # check with the string class provides\n",
    "    for char in str_int:\n",
    "        if char in '+-':\n",
    "            continue\n",
    "        elif char.isalpha():\n",
    "            return False\n",
    "    return True\n",
    "\n",
    "\n",
    "def is_float_with_except(str_int):\n",
    "    # try to convert to float\n",
    "    # and catch the exception\n",
    "    # in case of non-float string\n",
    "    try:\n",
    "        float(str_int)\n",
    "        return True\n",
    "    except ValueError:\n",
    "        return False\n",
    "\n",
    "\n",
    "def check_is_float(check_fun):\n",
    "    assert check_fun(\"345\")\n",
    "    assert check_fun(\"+23\")\n",
    "    assert check_fun(\"-231\")\n",
    "    assert not check_fun(\"-23y1\")\n",
    "    assert not check_fun(\"abc\")\n",
    "    \n",
    "    \n",
    "check_is_float(is_float)\n",
    "check_is_float(is_float_with_except)"
   ]
  },
  {
   "cell_type": "code",
   "execution_count": null,
   "metadata": {},
   "outputs": [],
   "source": []
  }
 ],
 "metadata": {
  "kernelspec": {
   "display_name": "Python 3 (ipykernel)",
   "language": "python",
   "name": "python3"
  },
  "language_info": {
   "codemirror_mode": {
    "name": "ipython",
    "version": 3
   },
   "file_extension": ".py",
   "mimetype": "text/x-python",
   "name": "python",
   "nbconvert_exporter": "python",
   "pygments_lexer": "ipython3",
   "version": "3.11.2"
  }
 },
 "nbformat": 4,
 "nbformat_minor": 2
}
